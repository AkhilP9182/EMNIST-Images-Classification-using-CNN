{
  "nbformat": 4,
  "nbformat_minor": 0,
  "metadata": {
    "colab": {
      "name": "Akhil_EMNIST_CNN.ipynb",
      "provenance": [],
      "collapsed_sections": []
    },
    "kernelspec": {
      "name": "python3",
      "display_name": "Python 3"
    },
    "accelerator": "GPU"
  },
  "cells": [
    {
      "cell_type": "code",
      "metadata": {
        "id": "d9j9mWPiK-Tq"
      },
      "source": [
        "# Importing the necessary packages\n",
        "import numpy as np\n",
        "import torch\n",
        "import torchvision\n",
        "import torch.nn            as nn\n",
        "import torch.nn.functional as F\n",
        "import torch.optim as optim\n",
        "import torchvision.datasets   as torch_datasets\n",
        "import torchvision.transforms as transforms\n",
        "import matplotlib.pyplot      as plt\n",
        "from   torch.utils.data   import Dataset\n",
        "from   torchsummary       import summary\n",
        "from   tqdm  import tqdm"
      ],
      "execution_count": 42,
      "outputs": []
    },
    {
      "cell_type": "code",
      "metadata": {
        "id": "I83c7sWTLqKU"
      },
      "source": [
        "# ----------- Creating a Train and Test Dataset ----------------\n",
        "\n",
        "# Transformation to be applied to the images before giving as input to model\n",
        "transformations = transforms.Compose([transforms.ToTensor()\n",
        "                                    , transforms.Normalize((0.1751,), (0.3332,))])# The mean and standard deviation for EMNIST data (balanced)\n",
        "\n",
        "# Creating a training dataset from EMNIST Balanced:  131,600 characters. 47 balanced classes.\n",
        "train_set = torch_datasets.EMNIST('../data_emnist', split='byclass'\n",
        "                          , train=True, download=True\n",
        "                          , transform = transformations)\n",
        "\n",
        "test_set  = torch_datasets.EMNIST('../data_emnist', split='byclass'\n",
        "                          , train=False, download=True\n",
        "                          , transform = transformations)"
      ],
      "execution_count": 64,
      "outputs": []
    },
    {
      "cell_type": "code",
      "metadata": {
        "id": "gh9TBOWrRLvU",
        "colab": {
          "base_uri": "https://localhost:8080/",
          "height": 52
        },
        "outputId": "711b43f7-dd91-480a-a8da-79f92deabb98"
      },
      "source": [
        "'''\n",
        "    This block is run for a batch_size = len(train_set), to get mean and std of the training images\n",
        "    BEFORE normalization is applied to the dataset, after .ToTensor() method squishes 0-255 range of pixel\n",
        "    values between 0-1\n",
        "'''\n",
        "# for images,target in train_loader:\n",
        "#     mean_images = (images).mean()\n",
        "#     std_images  = (images).std()\n",
        "# print(\"Mean of images = {}\".format(mean_images))   # Mean =  0.17510417103767395\n",
        "# print(\"Standard deviation of images = {}\".format(std_images)) # std = 0.3332371413707733"
      ],
      "execution_count": 65,
      "outputs": [
        {
          "output_type": "execute_result",
          "data": {
            "application/vnd.google.colaboratory.intrinsic+json": {
              "type": "string"
            },
            "text/plain": [
              "'\\n    This block is run for a batch_size = len(train_set), to get mean and std of the training images\\n    BEFORE normalization is applied to the dataset, after .ToTensor() method squishes 0-255 range of pixel\\n    values between 0-1\\n'"
            ]
          },
          "metadata": {
            "tags": []
          },
          "execution_count": 65
        }
      ]
    },
    {
      "cell_type": "code",
      "metadata": {
        "colab": {
          "base_uri": "https://localhost:8080/"
        },
        "id": "ng2PbxHLKr-f",
        "outputId": "356afee2-38fe-44e6-b81f-ab3b5195112a"
      },
      "source": [
        "'''\r\n",
        "    This block is to assert whether both training and test sets have the same number/type of \r\n",
        "    classes (with the same labelling) for classification, and assign the number to a variable \r\n",
        "    'num_classes' which will be equal to the number of kernel that will be used later in the \r\n",
        "    final convolution layer, just before the GlobalAveragePooling (gap) layer in the NeuralNetwork.\r\n",
        " '''\r\n",
        "classes_in_train = train_set.targets.unique().numpy()\r\n",
        "classes_in_test  = test_set.targets.unique().numpy()\r\n",
        "assert np.isin(classes_in_test,classes_in_train).all()\r\n",
        "\r\n",
        "num_classes = len(train_set.targets.unique().numpy())\r\n",
        "print(f'Number of classes: {num_classes}')"
      ],
      "execution_count": 66,
      "outputs": [
        {
          "output_type": "stream",
          "text": [
            "Number of classes: 62\n"
          ],
          "name": "stdout"
        }
      ]
    },
    {
      "cell_type": "code",
      "metadata": {
        "id": "R3t2aTfZSubH"
      },
      "source": [
        "class NeuralNet(nn.Module):\n",
        "    def __init__(self):\n",
        "        super(NeuralNet, self).__init__()\n",
        "        '''RF formula: \n",
        "           RF[n] = RF[n-1] + (kernel_size - 1) * j[n-1], where:- \n",
        "           RF[k] is the receptive field of k'th layer and j[k] is the jump (cumulative stride)\n",
        "           j[n] = j[n-1] * stride[n-1]\n",
        "           j[1] = 1 and RF[1]=1\n",
        "        '''\n",
        "        # Input layer (image): | RF: 1  | j[0] = 1\n",
        "        self.conv1 = nn.Conv2d(1 , 10, 3, padding=1) # Input: 28x28x1  | Output: 28x28x10 | RF:3  | j[1] = j[2]*1 = 1\n",
        "        self.conv2 = nn.Conv2d(10, 10, 3, padding=1) # Input: 28x28x10 | Output: 28x28x10 | RF:5  | j[2] = j[3]*1 = 1\n",
        "        self.pool1 = nn.MaxPool2d(2, 2)              # Input: 28x28x10 | Output: 14x14x10 | RF:6  | j[3] = j[4]*2 = 2\n",
        "        '''\n",
        "        For self.pool1 (layer[3]): j[3] = j[2]*stride = 1 * 2 = 2\n",
        "        '''\n",
        "        self.conv3 = nn.Conv2d(10, 20, 3, padding=1) # Input: 14x14x10 | Output: 14x14x20 | RF:10  | j[4] = j[3]*1 = 2\n",
        "        self.conv4 = nn.Conv2d(20, 20, 3, padding=1) # Input: 14x14x20 | Output: 14x14x20 | RF:14  | j[5] = j[4]*1 = 2\n",
        "        self.pool2 = nn.MaxPool2d(2, 2)              # Input: 14x14x20 | Output: 7x7x20   | RF:16  | j[6] = j[4]*2 = 4\n",
        "        '''\n",
        "        For self.pool2 (layer[6]): j[6] = j[5]*stride = 2 * 2 = 4\n",
        "        '''\n",
        "        self.conv5 = nn.Conv2d(20, 30, 3)            # Input: 7x7x20   | Output: 5x5x30   | RF:24  | j[7] = j[6]*1 = 4\n",
        "        self.conv6 = nn.Conv2d(30, num_classes, 3)   # Input: 5x5x30   | Output: 3x3x62   | RF:32  | j[8] = j[6]*1 = 4\n",
        "        self.gap   = nn.AvgPool2d(3)                 # Input: 3x3x62   | Output: 1x1x62   | RF:40  | j[8] = j[6]*3 = 12\n",
        "\n",
        "    def forward(self, x):\n",
        "        x = self.pool1(F.relu(self.conv2(F.relu(self.conv1(x)))))\n",
        "        x = self.pool2(F.relu(self.conv4(F.relu(self.conv3(x)))))\n",
        "        x = self.conv6(F.relu(self.conv5(x)))\n",
        "        x = self.gap(x)\n",
        "        x = x.view(-1, num_classes)\n",
        "        return F.log_softmax(x,dim=1)"
      ],
      "execution_count": 67,
      "outputs": []
    },
    {
      "cell_type": "code",
      "metadata": {
        "id": "gFqlAZIkSePZ",
        "colab": {
          "base_uri": "https://localhost:8080/"
        },
        "outputId": "644b735f-8f97-49f7-820d-dfd768b9db0b"
      },
      "source": [
        "use_cuda = torch.cuda.is_available()                   # Checks if Cuda is available, and returns True if yes\r\n",
        "device   = torch.device(\"cuda\" if use_cuda else \"cpu\") # Selects whether to load and train on GPU or CPU\r\n",
        "model    = NeuralNet().to(device)                      # Loads the model weights on the gpu or cpu\r\n",
        "summary(model, input_size=(1, 28, 28))                 # Shows the sizes of the input and output at each layers for a given input image size, and total parameters"
      ],
      "execution_count": 68,
      "outputs": [
        {
          "output_type": "stream",
          "text": [
            "----------------------------------------------------------------\n",
            "        Layer (type)               Output Shape         Param #\n",
            "================================================================\n",
            "            Conv2d-1           [-1, 10, 28, 28]             100\n",
            "            Conv2d-2           [-1, 10, 28, 28]             910\n",
            "         MaxPool2d-3           [-1, 10, 14, 14]               0\n",
            "            Conv2d-4           [-1, 20, 14, 14]           1,820\n",
            "            Conv2d-5           [-1, 20, 14, 14]           3,620\n",
            "         MaxPool2d-6             [-1, 20, 7, 7]               0\n",
            "            Conv2d-7             [-1, 30, 5, 5]           5,430\n",
            "            Conv2d-8             [-1, 62, 3, 3]          16,802\n",
            "         AvgPool2d-9             [-1, 62, 1, 1]               0\n",
            "================================================================\n",
            "Total params: 28,682\n",
            "Trainable params: 28,682\n",
            "Non-trainable params: 0\n",
            "----------------------------------------------------------------\n",
            "Input size (MB): 0.00\n",
            "Forward/backward pass size (MB): 0.21\n",
            "Params size (MB): 0.11\n",
            "Estimated Total Size (MB): 0.32\n",
            "----------------------------------------------------------------\n"
          ],
          "name": "stdout"
        }
      ]
    },
    {
      "cell_type": "code",
      "metadata": {
        "id": "6QJs22l0wmmm"
      },
      "source": [
        "# Creating data loaders to load samples from dataset (train or test)\r\n",
        "torch.manual_seed(2020)   # Set Randomization seed for shuffle\r\n",
        "batch_size   = 2048        # Set Batch size for each sample batch pulled by loaders\r\n",
        "kwargs       = {'num_workers': 1, 'pin_memory': True} if use_cuda else {}\r\n",
        "\r\n",
        "train_loader = torch.utils.data.DataLoader(train_set, batch_size = batch_size, shuffle=True, **kwargs)\r\n",
        "test_loader  = torch.utils.data.DataLoader(test_set,  batch_size = batch_size, shuffle=True, **kwargs)"
      ],
      "execution_count": 69,
      "outputs": []
    },
    {
      "cell_type": "code",
      "metadata": {
        "id": "tAEN_cXr0nsS"
      },
      "source": [
        "def train(model, device, train_loader, optimizer, epoch):\r\n",
        "    model.train()\r\n",
        "    pbar = tqdm(train_loader,leave=False)\r\n",
        "    for batch_idx, (data, target) in enumerate(pbar):\r\n",
        "        data, target = data.to(device), target.to(device)\r\n",
        "        optimizer.zero_grad()  # Sets the gradients of all optimized torch.Tensors to zero. \r\n",
        "        # It’s important to call optimizer.zero_grad() before loss.backward(), otherwise gradients will be accumulated from multiple passes.\r\n",
        "        output = model(data)                  # The feed forward pass for generating output from data\r\n",
        "        loss   = F.nll_loss(output, target)   # Calculates the negative log likelihood loss for the given sets of output to predicted targets\r\n",
        "        loss.backward()         # Calculates the d(loss)/dx for each parameter x, which are accumulated into x.grad\r\n",
        "        optimizer.step()        # optimizer.step() multiples the learing rate with the x.grad and updates each model parameter\r\n",
        "        string_name = 'Epoch={} | Batch_id={} | Loss={:.6f}'.format(epoch,batch_idx,loss.item())\r\n",
        "        pbar.set_description(desc=string_name) # Updates the description at every timestep while showing the progress bar\r\n",
        "\r\n",
        "    # Getting Training Accuracy\r\n",
        "    model.eval()\r\n",
        "    total_train_loss = 0\r\n",
        "    correct_train = 0\r\n",
        "    # torch.no_grad() disables gradient calculation during inference, thus reducing memory consumption \r\n",
        "    # by making sure tensor.Backward() is not called\r\n",
        "    with torch.no_grad():\r\n",
        "        for data, target in train_loader:\r\n",
        "            data, target   = data.to(device), target.to(device)\r\n",
        "            output         = model(data)\r\n",
        "            total_train_loss += F.nll_loss(output, target, reduction='sum').item()  # sums up the loss for all samples in a batch\r\n",
        "            pred           = output.argmax(dim=1, keepdim=True)                      # get the index of the max log-probability\r\n",
        "            correct_train += pred.eq(target.view_as(pred)).sum().item()              # Compare the predictions with the target\r\n",
        "\r\n",
        "    train_loss     = total_train_loss/len(train_loader.dataset)\r\n",
        "    train_accuracy = 100. * (correct_train / len(train_loader.dataset))\r\n",
        "    print('\\nEpoch:{}\\nTrain Set: Mean loss: {:.4f}, Train Accuracy: {}/{} ({:.1f}%)'.format(epoch,\r\n",
        "        train_loss, correct_train, len(train_loader.dataset),train_accuracy))\r\n",
        "    return train_loss,train_accuracy\r\n",
        "    \r\n",
        "def test(model, device, test_loader):\r\n",
        "    model.eval()\r\n",
        "    total_test_loss,correct_test = 0,0\r\n",
        "    # torch.no_grad() disables gradient calculation during inference, thus reducing memory consumption \r\n",
        "    # by making sure tensor.Backward() is not called\r\n",
        "    with torch.no_grad():\r\n",
        "        for data, target in test_loader:\r\n",
        "            data, target = data.to(device), target.to(device)\r\n",
        "            output       = model(data)\r\n",
        "            total_test_loss += F.nll_loss(output, target, reduction='sum').item()  # sums up the loss for all samples in a batch\r\n",
        "            pred         = output.argmax(dim=1, keepdim=True)                      # get the index of the max log-probability\r\n",
        "            correct_test+= pred.eq(target.view_as(pred)).sum().item()              # Compare the predictions with the target\r\n",
        "\r\n",
        "    test_loss = total_test_loss/len(test_loader.dataset)\r\n",
        "    test_accuracy = 100. * (correct_test / len(test_loader.dataset))\r\n",
        "    print('\\nTest Set : Mean loss: {:.4f}, Test Accuracy : {}/{} ({:.1f}%)\\n'.format(\r\n",
        "        test_loss, correct_test, len(test_loader.dataset),test_accuracy))\r\n",
        "    return test_loss,test_accuracy"
      ],
      "execution_count": 70,
      "outputs": []
    },
    {
      "cell_type": "code",
      "metadata": {
        "id": "epRLULbn10Kd"
      },
      "source": [
        "LR = 0.005\r\n",
        "optimizer = optim.SGD(model.parameters(), lr=LR, momentum=0.9)  # Applies mini-batch gradient descent for training\r\n",
        "\r\n",
        "num_epochs   = 20\r\n",
        "update_lr_ep = int(num_epochs*0.5)\r\n",
        "'''\r\n",
        "    update_lr_ep: epoch at which the Learning rate will be updated\r\n",
        "   \r\n",
        "    We will be reducing the learning rate by a factor of 10 after every (0.5*num_epochs = 10 epochs).\r\n",
        "    (epoch starts from 0). A total reduction factor of 1000 in learning rate after 15 epochs. \r\n",
        "    This is so that the training loss does not plateau, which was seen when a fixed learning rate of 0.01 was used.\r\n",
        "'''\r\n",
        "train_loss_vals = []\r\n",
        "train_acc_vals  = []\r\n",
        "test_loss_vals  = []\r\n",
        "test_acc_vals   = []\r\n",
        "for epoch in range(0, num_epochs):\r\n",
        "\r\n",
        "    if ((epoch + 1) % update_lr_ep) == 0:\r\n",
        "        old_learn_rate = optimizer.param_groups[0]['lr']\r\n",
        "        new_learn_rate = optimizer.param_groups[0]['lr']/10\r\n",
        "        optimizer.param_groups[0]['lr'] = new_learn_rate\r\n",
        "        print(\"\\n--------------------------------------------------------\")\r\n",
        "        print(\"Learning rate updated from {} to {} at epoch {}!\".format(old_learn_rate,new_learn_rate,epoch))\r\n",
        "        print(\"--------------------------------------------------------\\n\")\r\n",
        "\r\n",
        "    train_loss,train_acc = train(model, device, train_loader, optimizer, epoch)\r\n",
        "    # A folder has been created to save the trained models at each epoch\r\n",
        "    model_path = '../data_emnist/trained_models/emnist_classification_model_epoch_'+str(epoch)+'_batchsize_'+str(batch_size)+'_lr_'+str(LR)\r\n",
        "    torch.save(model.state_dict(), model_path)\r\n",
        "\r\n",
        "    test_loss,test_acc   = test(model, device, test_loader)\r\n",
        "\r\n",
        "    train_loss_vals.append(train_loss)\r\n",
        "    test_loss_vals.append(test_loss)\r\n",
        "    train_acc_vals.append(train_acc)\r\n",
        "    test_acc_vals.append(test_acc)\r\n",
        "\r\n",
        "# model.load_state_dict(torch.load(model_path), strict=False)\r\n",
        "# For loading the model saved at a particular epoch"
      ],
      "execution_count": null,
      "outputs": []
    },
    {
      "cell_type": "code",
      "metadata": {
        "colab": {
          "base_uri": "https://localhost:8080/",
          "height": 312
        },
        "id": "nKDqjbFNCKgV",
        "outputId": "80d54e91-4743-4dc1-a37d-fd73e8e50b59"
      },
      "source": [
        "epochs = range(0,num_epochs)\r\n",
        "plt.plot(epochs, train_loss_vals, 'b', label='Mean Training loss')\r\n",
        "plt.plot(epochs, test_loss_vals , 'r', label='Mean Test loss')\r\n",
        "plt.title('Train and Test loss v/s Epochs')\r\n",
        "plt.xlabel('Epochs')\r\n",
        "plt.ylabel('Loss')\r\n",
        "plt.legend()\r\n",
        "plt.show()\r\n",
        "plt.savefig('../data_emnist/loss.png')"
      ],
      "execution_count": 84,
      "outputs": [
        {
          "output_type": "display_data",
          "data": {
            "image/png": "[encoded data removed]",
            "text/plain": [
              "<Figure size 432x288 with 1 Axes>"
            ]
          },
          "metadata": {
            "tags": [],
            "needs_background": "light"
          }
        },
        {
          "output_type": "display_data",
          "data": {
            "text/plain": [
              "<Figure size 432x288 with 0 Axes>"
            ]
          },
          "metadata": {
            "tags": []
          }
        }
      ]
    },
    {
      "cell_type": "code",
      "metadata": {
        "colab": {
          "base_uri": "https://localhost:8080/",
          "height": 312
        },
        "id": "jUw7mGY0C7XU",
        "outputId": "a030e222-3cf3-40af-d914-efd17da23d37"
      },
      "source": [
        "plt.plot(epochs, train_acc_vals, 'b', label='Training Accuracy')\r\n",
        "plt.plot(epochs, test_acc_vals, 'r', label='Testing Accuracy')\r\n",
        "plt.title('Train and Test Accuracy v/s Epochs')\r\n",
        "plt.xlabel('Epochs')\r\n",
        "plt.ylabel('Accuracy')\r\n",
        "plt.legend()\r\n",
        "plt.show()\r\n",
        "plt.savefig('../data_emnist/accuracy.jpg')"
      ],
      "execution_count": 86,
      "outputs": [
        {
          "output_type": "display_data",
          "data": {
            "image/png": "[encoded data removed]",
            "text/plain": [
              "<Figure size 432x288 with 1 Axes>"
            ]
          },
          "metadata": {
            "tags": [],
            "needs_background": "light"
          }
        },
        {
          "output_type": "display_data",
          "data": {
            "text/plain": [
              "<Figure size 432x288 with 0 Axes>"
            ]
          },
          "metadata": {
            "tags": []
          }
        }
      ]
    },
    {
      "cell_type": "code",
      "metadata": {
        "id": "fTIP9dEVQzzs"
      },
      "source": [
        ""
      ],
      "execution_count": null,
      "outputs": []
    }
  ]
}